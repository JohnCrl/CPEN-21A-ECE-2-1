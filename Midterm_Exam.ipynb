{
  "nbformat": 4,
  "nbformat_minor": 0,
  "metadata": {
    "colab": {
      "name": "Midterm Exam.ipynb",
      "provenance": [],
      "authorship_tag": "ABX9TyNvNjRnqunNCgu2/3Ef1VAk",
      "include_colab_link": true
    },
    "kernelspec": {
      "name": "python3",
      "display_name": "Python 3"
    },
    "language_info": {
      "name": "python"
    }
  },
  "cells": [
    {
      "cell_type": "markdown",
      "metadata": {
        "id": "view-in-github",
        "colab_type": "text"
      },
      "source": [
        "<a href=\"https://colab.research.google.com/github/JohnCrl/CPEN-21A-ECE-2-1/blob/main/Midterm_Exam.ipynb\" target=\"_parent\"><img src=\"https://colab.research.google.com/assets/colab-badge.svg\" alt=\"Open In Colab\"/></a>"
      ]
    },
    {
      "cell_type": "markdown",
      "metadata": {
        "id": "36-LXXQzwZRT"
      },
      "source": [
        "**Midterm Exam**"
      ]
    },
    {
      "cell_type": "markdown",
      "metadata": {
        "id": "EVA0Gn7Hx_Lf"
      },
      "source": [
        "***Problem Statement 1***"
      ]
    },
    {
      "cell_type": "code",
      "metadata": {
        "colab": {
          "base_uri": "https://localhost:8080/"
        },
        "id": "tIe5qHyHwPJP",
        "outputId": "f261551c-9767-4a1c-ebc3-2d55e257c6aa"
      },
      "source": [
        "a= \"John Carl F. Bañadera\"\n",
        "b= \"202012942\"\n",
        "c= \"21 years old\"\n",
        "d= \"November 18, 2000\"\n",
        "e= \"Lot 1373 C-2 Marseilla St. Bagbag II, Rosario Cavite\"\n",
        "f= \"Bachelor of Science in Electronics Communication Engineering\"\n",
        "g= \"1.67\"\n",
        "\n",
        "print(a)\n",
        "print(b)\n",
        "print(c)\n",
        "print(d)\n",
        "print(e)\n",
        "print(f)\n",
        "print(g)\n"
      ],
      "execution_count": 1,
      "outputs": [
        {
          "output_type": "stream",
          "name": "stdout",
          "text": [
            "John Carl F. Bañadera\n",
            "202012942\n",
            "21 years old\n",
            "November 18, 2000\n",
            "Lot 1373 C-2 Marseilla St. Bagbag II, Rosario Cavite\n",
            "Bachelor of Science in Electronics Communication Engineering\n",
            "1.67\n"
          ]
        }
      ]
    },
    {
      "cell_type": "markdown",
      "metadata": {
        "id": "tAwMZKNayMRH"
      },
      "source": [
        "***Problem Statement 2***"
      ]
    },
    {
      "cell_type": "markdown",
      "metadata": {
        "id": "LrS4x3Au2XLB"
      },
      "source": [
        "**A.**"
      ]
    },
    {
      "cell_type": "code",
      "metadata": {
        "colab": {
          "base_uri": "https://localhost:8080/"
        },
        "id": "STZX2RbDyPL4",
        "outputId": "1b2050bd-2318-4d3b-ece9-defeee389fcb"
      },
      "source": [
        "n=4\n",
        "a=(2<n) and (n<6)\n",
        "print(a)"
      ],
      "execution_count": 23,
      "outputs": [
        {
          "output_type": "stream",
          "name": "stdout",
          "text": [
            "True\n"
          ]
        }
      ]
    },
    {
      "cell_type": "markdown",
      "metadata": {
        "id": "esfbbacG2Z9l"
      },
      "source": [
        "**B.**"
      ]
    },
    {
      "cell_type": "code",
      "metadata": {
        "colab": {
          "base_uri": "https://localhost:8080/"
        },
        "id": "0xiFpz6M2bNJ",
        "outputId": "0fc37436-cb08-4c33-bf17-f01a3fa0f33c"
      },
      "source": [
        "n=4\n",
        "b=(2<n) or (n==6)\n",
        "print(b)"
      ],
      "execution_count": 25,
      "outputs": [
        {
          "output_type": "stream",
          "name": "stdout",
          "text": [
            "True\n"
          ]
        }
      ]
    },
    {
      "cell_type": "markdown",
      "metadata": {
        "id": "9kwg5L5C2-gf"
      },
      "source": [
        "**C.**"
      ]
    },
    {
      "cell_type": "code",
      "metadata": {
        "colab": {
          "base_uri": "https://localhost:8080/"
        },
        "id": "1EKNwz-x3AKH",
        "outputId": "d7ffa178-3b6d-4725-ee4b-421f4bf7f28d"
      },
      "source": [
        "n=4\n",
        "c=(not(2<n or n==6))\n",
        "print(c)"
      ],
      "execution_count": 31,
      "outputs": [
        {
          "output_type": "stream",
          "name": "stdout",
          "text": [
            "False\n"
          ]
        }
      ]
    },
    {
      "cell_type": "markdown",
      "metadata": {
        "id": "LXYGN_Rf3gIQ"
      },
      "source": [
        "**D.**"
      ]
    },
    {
      "cell_type": "code",
      "metadata": {
        "colab": {
          "base_uri": "https://localhost:8080/"
        },
        "id": "u0FzMNNy3hmo",
        "outputId": "1ee9d732-a8ae-4331-ead1-41842f501681"
      },
      "source": [
        "n=4\n",
        "d=(not(n<6))\n",
        "print(d)"
      ],
      "execution_count": 38,
      "outputs": [
        {
          "output_type": "stream",
          "name": "stdout",
          "text": [
            "False\n"
          ]
        }
      ]
    },
    {
      "cell_type": "markdown",
      "metadata": {
        "id": "Mons48lP4iVA"
      },
      "source": [
        "**E.**"
      ]
    },
    {
      "cell_type": "code",
      "metadata": {
        "colab": {
          "base_uri": "https://localhost:8080/"
        },
        "id": "nu6ssWtL4kcf",
        "outputId": "bbd778cd-f503-4166-8e97-081fff6ac69b"
      },
      "source": [
        "n=4\n",
        "answ=\"Y\"\n",
        "e=(answ==\"Y\") or (answ==\"y\")\n",
        "print(e)"
      ],
      "execution_count": 50,
      "outputs": [
        {
          "output_type": "stream",
          "name": "stdout",
          "text": [
            "True\n"
          ]
        }
      ]
    },
    {
      "cell_type": "markdown",
      "metadata": {
        "id": "HRWz05L-6sVA"
      },
      "source": [
        "**F.**"
      ]
    },
    {
      "cell_type": "code",
      "metadata": {
        "colab": {
          "base_uri": "https://localhost:8080/"
        },
        "id": "Zji5Z-Gi6u1f",
        "outputId": "1cace002-1951-4824-b932-7ac978a11245"
      },
      "source": [
        "n=4\n",
        "answ=\"Y\"\n",
        "f=(answ==\"Y\") and (answ==\"y\")\n",
        "print(f)"
      ],
      "execution_count": 54,
      "outputs": [
        {
          "output_type": "stream",
          "name": "stdout",
          "text": [
            "False\n"
          ]
        }
      ]
    },
    {
      "cell_type": "markdown",
      "metadata": {
        "id": "47YG0VaR70pH"
      },
      "source": [
        "**G.**"
      ]
    },
    {
      "cell_type": "code",
      "metadata": {
        "colab": {
          "base_uri": "https://localhost:8080/"
        },
        "id": "cDI-VYhB75pI",
        "outputId": "b6563723-fb60-4f18-bb43-12391c4a43ce"
      },
      "source": [
        "n=4\n",
        "answ=\"Y\"\n",
        "g=not(answ==\"y\")\n",
        "print(g)"
      ],
      "execution_count": 75,
      "outputs": [
        {
          "output_type": "stream",
          "name": "stdout",
          "text": [
            "True\n"
          ]
        }
      ]
    },
    {
      "cell_type": "markdown",
      "metadata": {
        "id": "S78useXG8vLL"
      },
      "source": [
        "**H.**"
      ]
    },
    {
      "cell_type": "code",
      "metadata": {
        "colab": {
          "base_uri": "https://localhost:8080/"
        },
        "id": "MrM7TSOv8wlz",
        "outputId": "ae8d548d-d9b6-4284-9168-e02d95f23a6e"
      },
      "source": [
        "n=4\n",
        "answ=\"Y\"\n",
        "h=(((2<n)and(n==5+1)) or (answ==\"No\"))\n",
        "print(h)"
      ],
      "execution_count": 82,
      "outputs": [
        {
          "output_type": "stream",
          "name": "stdout",
          "text": [
            "False\n"
          ]
        }
      ]
    },
    {
      "cell_type": "markdown",
      "metadata": {
        "id": "Oac4IA28-3o3"
      },
      "source": [
        "**I.**"
      ]
    },
    {
      "cell_type": "code",
      "metadata": {
        "colab": {
          "base_uri": "https://localhost:8080/"
        },
        "id": "yrZ3coRn-5s5",
        "outputId": "320fbb2e-8ab5-40d6-a420-38a3a018d023"
      },
      "source": [
        "n=4\n",
        "answ=\"Y\"\n",
        "i=(((n==2)and(n==7)) or (answ==\"Y\"))\n",
        "print(i)"
      ],
      "execution_count": 84,
      "outputs": [
        {
          "output_type": "stream",
          "name": "stdout",
          "text": [
            "True\n"
          ]
        }
      ]
    },
    {
      "cell_type": "markdown",
      "metadata": {
        "id": "BuFFbHb3_Nam"
      },
      "source": [
        "**J.**"
      ]
    },
    {
      "cell_type": "code",
      "metadata": {
        "colab": {
          "base_uri": "https://localhost:8080/"
        },
        "id": "Yqq5O5X4_O-P",
        "outputId": "26f1aef9-a335-4256-94dd-253f68f7ad72"
      },
      "source": [
        "n=4\n",
        "answ=\"Y\"\n",
        "j=((n==2)and((n==7)or(answ==\"Y\")))\n",
        "print(j)"
      ],
      "execution_count": 86,
      "outputs": [
        {
          "output_type": "stream",
          "name": "stdout",
          "text": [
            "False\n"
          ]
        }
      ]
    },
    {
      "cell_type": "markdown",
      "metadata": {
        "id": "zbu8FSKIygqv"
      },
      "source": [
        "***Problem Statement 3***"
      ]
    },
    {
      "cell_type": "code",
      "metadata": {
        "colab": {
          "base_uri": "https://localhost:8080/"
        },
        "id": "NaHFzeduyi-X",
        "outputId": "3070cc9f-2f2e-4146-b454-f64df9020e8f"
      },
      "source": [
        "x= 2\n",
        "y= -3\n",
        "w= 7\n",
        "z= -10\n",
        "\n",
        "print(x/y)\n",
        "print(w/y/x)\n",
        "print(z/y%x)\n",
        "print(x%-y*w)\n",
        "print(x%y)\n",
        "print(z%w-y/x*5+5)\n",
        "print(9-x%(2+y))\n",
        "print(z//w)\n",
        "print((2+y)**2)\n",
        "print(w/x*2)\n",
        "\n"
      ],
      "execution_count": 22,
      "outputs": [
        {
          "output_type": "stream",
          "name": "stdout",
          "text": [
            "-0.6666666666666666\n",
            "-1.1666666666666667\n",
            "1.3333333333333335\n",
            "14\n",
            "-1\n",
            "16.5\n",
            "9\n",
            "-2\n",
            "1\n",
            "7.0\n"
          ]
        }
      ]
    }
  ]
}