{
  "nbformat": 4,
  "nbformat_minor": 0,
  "metadata": {
    "colab": {
      "name": "Operations and Expressions.ipynb",
      "provenance": [],
      "authorship_tag": "ABX9TyM7iWzhtPaROWRBAMS/PsV7",
      "include_colab_link": true
    },
    "kernelspec": {
      "name": "python3",
      "display_name": "Python 3"
    },
    "language_info": {
      "name": "python"
    }
  },
  "cells": [
    {
      "cell_type": "markdown",
      "metadata": {
        "id": "view-in-github",
        "colab_type": "text"
      },
      "source": [
        "<a href=\"https://colab.research.google.com/github/JohnCrl/CPEN-21A-ECE-2-1/blob/main/Operations_and_Expressions.ipynb\" target=\"_parent\"><img src=\"https://colab.research.google.com/assets/colab-badge.svg\" alt=\"Open In Colab\"/></a>"
      ]
    },
    {
      "cell_type": "markdown",
      "metadata": {
        "id": "lZKk9XlL4q_W"
      },
      "source": [
        "***Boolean Operator***"
      ]
    },
    {
      "cell_type": "code",
      "metadata": {
        "colab": {
          "base_uri": "https://localhost:8080/"
        },
        "id": "KKgpDBTF3LlD",
        "outputId": "500505e6-1cb0-48fc-a85d-6085f2f9dd95"
      },
      "source": [
        "x=1\n",
        "y=2\n",
        "\n",
        "y"
      ],
      "execution_count": 4,
      "outputs": [
        {
          "output_type": "execute_result",
          "data": {
            "text/plain": [
              "2"
            ]
          },
          "metadata": {},
          "execution_count": 4
        }
      ]
    },
    {
      "cell_type": "code",
      "metadata": {
        "colab": {
          "base_uri": "https://localhost:8080/"
        },
        "id": "9KE5KxHb42RG",
        "outputId": "6ba47d75-d3c8-49e1-d980-09a9d890c5f1"
      },
      "source": [
        "x=1\n",
        "y=2\n",
        "\n",
        "print(y)"
      ],
      "execution_count": 5,
      "outputs": [
        {
          "output_type": "stream",
          "name": "stdout",
          "text": [
            "2\n"
          ]
        }
      ]
    },
    {
      "cell_type": "code",
      "metadata": {
        "colab": {
          "base_uri": "https://localhost:8080/"
        },
        "id": "W6j30JA_48qZ",
        "outputId": "619143ce-e1da-48fa-f350-da56e512205f"
      },
      "source": [
        "x=1\n",
        "y=2\n",
        "\n",
        "print(x>y)\n",
        "print(10>11)\n",
        "print(10==10)\n",
        "print(10!=11)"
      ],
      "execution_count": 6,
      "outputs": [
        {
          "output_type": "stream",
          "name": "stdout",
          "text": [
            "False\n",
            "False\n",
            "True\n",
            "True\n"
          ]
        }
      ]
    },
    {
      "cell_type": "code",
      "metadata": {
        "colab": {
          "base_uri": "https://localhost:8080/"
        },
        "id": "jVAtDcTu5Th1",
        "outputId": "1de75920-83bc-4d53-9be8-40c82d5fa882"
      },
      "source": [
        "#using bool() function\n",
        "\n",
        "print(bool(\"Hello\"))\n",
        "print(bool(15))\n",
        "print(bool(1))\n",
        "print(bool(True))\n",
        "print(bool(False))\n",
        "print(bool(None))\n",
        "print(bool(0))\n",
        "print(bool([]))\n"
      ],
      "execution_count": 20,
      "outputs": [
        {
          "output_type": "stream",
          "name": "stdout",
          "text": [
            "True\n",
            "True\n",
            "True\n",
            "True\n",
            "False\n",
            "False\n",
            "False\n",
            "False\n"
          ]
        }
      ]
    },
    {
      "cell_type": "markdown",
      "metadata": {
        "id": "xy-_kMXn56J9"
      },
      "source": [
        "***Functions can return Boolean***"
      ]
    },
    {
      "cell_type": "code",
      "metadata": {
        "colab": {
          "base_uri": "https://localhost:8080/"
        },
        "id": "r7klR-Zh6AI8",
        "outputId": "61a82f6e-d51a-4371-815b-37403cb65150"
      },
      "source": [
        "def myFunction(): return True\n",
        "print(myFunction())\n"
      ],
      "execution_count": 23,
      "outputs": [
        {
          "output_type": "stream",
          "name": "stdout",
          "text": [
            "True\n"
          ]
        }
      ]
    },
    {
      "cell_type": "code",
      "metadata": {
        "colab": {
          "base_uri": "https://localhost:8080/"
        },
        "id": "nJ3IP8t56wo0",
        "outputId": "d5c748b0-831f-4fee-8e81-8839f96432a8"
      },
      "source": [
        "def myFunction(): return False\n",
        "print(myFunction())"
      ],
      "execution_count": 25,
      "outputs": [
        {
          "output_type": "stream",
          "name": "stdout",
          "text": [
            "False\n"
          ]
        }
      ]
    },
    {
      "cell_type": "code",
      "metadata": {
        "colab": {
          "base_uri": "https://localhost:8080/"
        },
        "id": "KTQRKa4q73d9",
        "outputId": "316253d6-df52-4669-91e5-960e4fa42837"
      },
      "source": [
        "def yourFunction(): return True\n",
        "if yourFunction(): \n",
        "  print(\"Yes!\")\n",
        "else:\n",
        "  Print(\"No!\")"
      ],
      "execution_count": 26,
      "outputs": [
        {
          "output_type": "stream",
          "name": "stdout",
          "text": [
            "Yes!\n"
          ]
        }
      ]
    },
    {
      "cell_type": "code",
      "metadata": {
        "colab": {
          "base_uri": "https://localhost:8080/"
        },
        "id": "XcEnVlhW8Z_t",
        "outputId": "26771110-bd9f-4522-926d-dcca2ba14c46"
      },
      "source": [
        "def yourFunction(): return False\n",
        "if yourFunction(): \n",
        "  print(\"Yes!\")\n",
        "else:\n",
        "  print(\"No!\")"
      ],
      "execution_count": 30,
      "outputs": [
        {
          "output_type": "stream",
          "name": "stdout",
          "text": [
            "No!\n"
          ]
        }
      ]
    },
    {
      "cell_type": "markdown",
      "metadata": {
        "id": "pWkv7JRR8wjt"
      },
      "source": [
        "***You must try!***"
      ]
    },
    {
      "cell_type": "code",
      "metadata": {
        "colab": {
          "base_uri": "https://localhost:8080/"
        },
        "id": "-F-fZWpa81qd",
        "outputId": "d6fab65e-c9a6-4bc3-e643-b986b631c95e"
      },
      "source": [
        "print(10>8)\n",
        "a=5\n",
        "b=2\n",
        "\n",
        "print(a==b)\n",
        "print(a!=a)"
      ],
      "execution_count": 32,
      "outputs": [
        {
          "output_type": "stream",
          "name": "stdout",
          "text": [
            "True\n",
            "False\n",
            "False\n"
          ]
        }
      ]
    },
    {
      "cell_type": "markdown",
      "metadata": {
        "id": "d-o-xUDA9PX9"
      },
      "source": [
        "***Arithmetic*** ***Operators***"
      ]
    },
    {
      "cell_type": "code",
      "metadata": {
        "colab": {
          "base_uri": "https://localhost:8080/"
        },
        "id": "PS1jN2Ia9TWU",
        "outputId": "e0b61016-4535-48b7-ad96-68b45a2c023f"
      },
      "source": [
        "print(10+5)\n",
        "print(10-5)\n",
        "print(10*5)\n",
        "print(10/5)\n",
        "print(10%5) #modulo division, remainder\n",
        "print(10//5)  #floor division\n",
        "print(10//3)  #floor division\n",
        "print(10%3)  #3X3=9+1"
      ],
      "execution_count": 33,
      "outputs": [
        {
          "output_type": "stream",
          "name": "stdout",
          "text": [
            "15\n",
            "5\n",
            "50\n",
            "2.0\n",
            "0\n",
            "2\n",
            "3\n",
            "1\n"
          ]
        }
      ]
    },
    {
      "cell_type": "markdown",
      "metadata": {
        "id": "cU_HqTBI9797"
      },
      "source": [
        "***Bitwise*** ***Operators***"
      ]
    },
    {
      "cell_type": "code",
      "metadata": {
        "colab": {
          "base_uri": "https://localhost:8080/"
        },
        "id": "z010qDw4-CfF",
        "outputId": "d6b356e9-8932-41b4-81bf-5243711955cd"
      },
      "source": [
        "a=50 # 0011 1100\n",
        "b=14 # 0000 1101\n",
        "\n",
        "print(a&b)\n",
        "print(a|b)\n",
        "print(a^b)\n",
        "print(~a)\n",
        "print(a<<1) #0111 1000\n",
        "print(a<<2) #1111 0000\n",
        "print(a>>1) #1 0000 0110\n",
        "print(a>>2) #0000 0011"
      ],
      "execution_count": 34,
      "outputs": [
        {
          "output_type": "stream",
          "name": "stdout",
          "text": [
            "2\n",
            "62\n",
            "60\n",
            "-51\n",
            "100\n",
            "200\n",
            "25\n",
            "12\n"
          ]
        }
      ]
    },
    {
      "cell_type": "markdown",
      "metadata": {
        "id": "0iaFFoIa_2XK"
      },
      "source": [
        "***Phyton Assignment Operators***"
      ]
    },
    {
      "cell_type": "code",
      "metadata": {
        "colab": {
          "base_uri": "https://localhost:8080/"
        },
        "id": "BJ6j0TWWBGKF",
        "outputId": "d2aa94f6-a04e-48c9-fed5-cd807ef06389"
      },
      "source": [
        "a+=3 #Same As a=a+3\n",
        "     #Same As a=50+4, a=54\n",
        "print(a)"
      ],
      "execution_count": 35,
      "outputs": [
        {
          "output_type": "stream",
          "name": "stdout",
          "text": [
            "53\n"
          ]
        }
      ]
    },
    {
      "cell_type": "markdown",
      "metadata": {
        "id": "HDVhR6WHBcBV"
      },
      "source": [
        "***Logical Operators***"
      ]
    },
    {
      "cell_type": "code",
      "metadata": {
        "colab": {
          "base_uri": "https://localhost:8080/"
        },
        "id": "U_G9j7v7BfVl",
        "outputId": "9e24a77e-a5f0-4e77-e1b2-4c736e3c34e0"
      },
      "source": [
        "#and logical operator\n",
        "\n",
        "a=True\n",
        "b=False\n",
        "print(a and b)\n",
        "print(not(a and b))\n",
        "print(a or b)\n",
        "print(not(a or b))"
      ],
      "execution_count": 36,
      "outputs": [
        {
          "output_type": "stream",
          "name": "stdout",
          "text": [
            "False\n",
            "True\n",
            "True\n",
            "False\n"
          ]
        }
      ]
    },
    {
      "cell_type": "code",
      "metadata": {
        "colab": {
          "base_uri": "https://localhost:8080/"
        },
        "id": "_MKH2SRXBzjE",
        "outputId": "b14bf098-614e-4d62-d802-5287b8423027"
      },
      "source": [
        "print(a is b)\n",
        "print(a is not b)"
      ],
      "execution_count": 37,
      "outputs": [
        {
          "output_type": "stream",
          "name": "stdout",
          "text": [
            "False\n",
            "True\n"
          ]
        }
      ]
    }
  ]
}