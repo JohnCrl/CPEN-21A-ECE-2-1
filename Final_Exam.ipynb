{
  "nbformat": 4,
  "nbformat_minor": 0,
  "metadata": {
    "colab": {
      "name": "Final Exam.ipynb",
      "provenance": [],
      "collapsed_sections": [],
      "authorship_tag": "ABX9TyO1fSSLwzhvqmnKk4guNfDv",
      "include_colab_link": true
    },
    "kernelspec": {
      "name": "python3",
      "display_name": "Python 3"
    },
    "language_info": {
      "name": "python"
    }
  },
  "cells": [
    {
      "cell_type": "markdown",
      "metadata": {
        "id": "view-in-github",
        "colab_type": "text"
      },
      "source": [
        "<a href=\"https://colab.research.google.com/github/JohnCrl/CPEN-21A-ECE-2-1/blob/main/Final_Exam.ipynb\" target=\"_parent\"><img src=\"https://colab.research.google.com/assets/colab-badge.svg\" alt=\"Open In Colab\"/></a>"
      ]
    },
    {
      "cell_type": "markdown",
      "source": [
        "##FINAL EXAM"
      ],
      "metadata": {
        "id": "NUj1ouPmhB0G"
      }
    },
    {
      "cell_type": "markdown",
      "source": [
        "Problem Statement 1"
      ],
      "metadata": {
        "id": "ndhApEFhdnzG"
      }
    },
    {
      "cell_type": "code",
      "source": [
        "n = input(\"Enter Number to calculate sum\")\n",
        "n = int (n)\n",
        "sum = 0;\n",
        "for num in range(0, n+1, 1):\n",
        "  sum = sum+num;\n",
        "  print(\"SUM of first \", n, \"numbers is: \", sum)\n",
        "  if sum >=10:\n",
        "    break"
      ],
      "metadata": {
        "id": "em-BkkIzduXK",
        "colab": {
          "base_uri": "https://localhost:8080/"
        },
        "outputId": "7bdf8e6d-6993-4c00-b101-bb59a336ff21"
      },
      "execution_count": 17,
      "outputs": [
        {
          "output_type": "stream",
          "name": "stdout",
          "text": [
            "Enter Number to calculate sum12345\n",
            "SUM of first  12345 numbers is:  0\n",
            "SUM of first  12345 numbers is:  1\n",
            "SUM of first  12345 numbers is:  3\n",
            "SUM of first  12345 numbers is:  6\n",
            "SUM of first  12345 numbers is:  10\n"
          ]
        }
      ]
    },
    {
      "cell_type": "markdown",
      "source": [
        "Problem Statement 2"
      ],
      "metadata": {
        "id": "xXiRI4VjduxK"
      }
    },
    {
      "cell_type": "code",
      "source": [
        "num=1;\n",
        "data={};\n",
        "while(num <=5):\n",
        "  i = str(num);\n",
        "  data[num] = input(\"Enter Number.\")\n",
        "  print(\"Value for Number \"+ i +\" is \"+ data[num])\n",
        "  num+=1\n",
        "  if(num==6):\n",
        "    sum=float(data[1])+float(data[5])\n",
        "    print(\"The sum of the first and last number is: \" + str(sum))"
      ],
      "metadata": {
        "id": "Kbj0e7shfwq7",
        "colab": {
          "base_uri": "https://localhost:8080/"
        },
        "outputId": "1cd71e8b-3da2-4daa-89fe-1850cf6722ba"
      },
      "execution_count": 22,
      "outputs": [
        {
          "output_type": "stream",
          "name": "stdout",
          "text": [
            "Enter Number.13\n",
            "Value for Number 1 is 13\n",
            "Enter Number.12\n",
            "Value for Number 2 is 12\n",
            "Enter Number.16\n",
            "Value for Number 3 is 16\n",
            "Enter Number.20\n",
            "Value for Number 4 is 20\n",
            "Enter Number.15\n",
            "Value for Number 5 is 15\n",
            "The sum of the first and last number is: 28.0\n"
          ]
        }
      ]
    },
    {
      "cell_type": "markdown",
      "source": [
        "Problem Statement 3"
      ],
      "metadata": {
        "id": "iv0zTNQVfc79"
      }
    },
    {
      "cell_type": "code",
      "source": [
        "grade=float(input(\"Enter your grade:\"))\n",
        "if grade >=90: print(\"A\")\n",
        "else:\n",
        "  if grade >=80: print(\"B\")\n",
        "  elif grade >=70: print(\"C\")\n",
        "  elif grade >=60: print(\"D\")\n",
        "  else: print(\"F\")"
      ],
      "metadata": {
        "colab": {
          "base_uri": "https://localhost:8080/"
        },
        "id": "nVqM71Y8ffJc",
        "outputId": "a8891ad6-79f6-4509-f608-4c3502bf6da1"
      },
      "execution_count": 23,
      "outputs": [
        {
          "output_type": "stream",
          "name": "stdout",
          "text": [
            "Enter your grade:89\n",
            "B\n"
          ]
        }
      ]
    }
  ]
}