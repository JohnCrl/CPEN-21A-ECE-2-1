{
  "nbformat": 4,
  "nbformat_minor": 0,
  "metadata": {
    "colab": {
      "name": "Control Structure.ipynb",
      "provenance": [],
      "authorship_tag": "ABX9TyOpToND4LUDfargTLrdp67i",
      "include_colab_link": true
    },
    "kernelspec": {
      "name": "python3",
      "display_name": "Python 3"
    },
    "language_info": {
      "name": "python"
    }
  },
  "cells": [
    {
      "cell_type": "markdown",
      "metadata": {
        "id": "view-in-github",
        "colab_type": "text"
      },
      "source": [
        "<a href=\"https://colab.research.google.com/github/JohnCrl/CPEN-21A-ECE-2-1/blob/main/Control_Structure.ipynb\" target=\"_parent\"><img src=\"https://colab.research.google.com/assets/colab-badge.svg\" alt=\"Open In Colab\"/></a>"
      ]
    },
    {
      "cell_type": "markdown",
      "metadata": {
        "id": "CV-4DLAcpik8"
      },
      "source": [
        "##If Statement"
      ]
    },
    {
      "cell_type": "code",
      "metadata": {
        "id": "C1qV47kvpmU2"
      },
      "source": [
        "a=12\n",
        "b=100\n",
        "if b<a:\n",
        "  print(\"b is greater than a \")"
      ],
      "execution_count": 11,
      "outputs": []
    },
    {
      "cell_type": "markdown",
      "metadata": {
        "id": "5nGSAeqsqbhR"
      },
      "source": [
        "##Elif Statement"
      ]
    },
    {
      "cell_type": "code",
      "metadata": {
        "colab": {
          "base_uri": "https://localhost:8080/"
        },
        "id": "wP5XBKgsqgN5",
        "outputId": "6ea1f444-50a4-4f5c-82c8-fa099ecade1b"
      },
      "source": [
        "a=12\n",
        "b=13\n",
        "if b>a:\n",
        "  print(\"b is greater than a \")\n",
        "elif b==a:\n",
        "  print(\"b is equal to a\")"
      ],
      "execution_count": 10,
      "outputs": [
        {
          "output_type": "stream",
          "name": "stdout",
          "text": [
            "b is greater than a \n"
          ]
        }
      ]
    },
    {
      "cell_type": "markdown",
      "metadata": {
        "id": "Dfjx-AoTq2ZB"
      },
      "source": [
        "##Else Statement"
      ]
    },
    {
      "cell_type": "code",
      "metadata": {
        "colab": {
          "base_uri": "https://localhost:8080/"
        },
        "id": "rad2lv-6q44r",
        "outputId": "7a46ec67-240d-4463-cc1b-6d9058991704"
      },
      "source": [
        "a=30\n",
        "b=30\n",
        "if a>b:\n",
        "  print(\"a is greater than b\")\n",
        "elif b>a:\n",
        "  print(\"b is greater than a\")\n",
        "else:\n",
        "  print(\"a is equal to b\")"
      ],
      "execution_count": 12,
      "outputs": [
        {
          "output_type": "stream",
          "name": "stdout",
          "text": [
            "a is equal to b\n"
          ]
        }
      ]
    },
    {
      "cell_type": "markdown",
      "metadata": {
        "id": "fMXkeMhXrMch"
      },
      "source": [
        "##Short Hand If Statement"
      ]
    },
    {
      "cell_type": "code",
      "metadata": {
        "colab": {
          "base_uri": "https://localhost:8080/"
        },
        "id": "HTC609CCrSd4",
        "outputId": "937c1d91-3b61-4905-f656-b50a967adad9"
      },
      "source": [
        "a=12\n",
        "b=6\n",
        "if a>b:\n",
        "  print(\"a is greater than b\")"
      ],
      "execution_count": 13,
      "outputs": [
        {
          "output_type": "stream",
          "name": "stdout",
          "text": [
            "a is greater than b\n"
          ]
        }
      ]
    },
    {
      "cell_type": "markdown",
      "metadata": {
        "id": "OO_wd185rblR"
      },
      "source": [
        "##Short Hand if... Else Statement"
      ]
    },
    {
      "cell_type": "code",
      "metadata": {
        "colab": {
          "base_uri": "https://localhost:8080/",
          "height": 35
        },
        "id": "IgYb5lmRrhi5",
        "outputId": "e416fe61-a9ef-4c5b-e2d1-1106b692898f"
      },
      "source": [
        "a=7\n",
        "b=14\n",
        "print(\"a is greater than b\")if a>b else(\"b is greater than a\")"
      ],
      "execution_count": 14,
      "outputs": [
        {
          "output_type": "execute_result",
          "data": {
            "application/vnd.google.colaboratory.intrinsic+json": {
              "type": "string"
            },
            "text/plain": [
              "'b is greater than a'"
            ]
          },
          "metadata": {},
          "execution_count": 14
        }
      ]
    },
    {
      "cell_type": "markdown",
      "metadata": {
        "id": "ZcJU7Eq9rtbj"
      },
      "source": [
        "##Logical Condition"
      ]
    },
    {
      "cell_type": "code",
      "metadata": {
        "colab": {
          "base_uri": "https://localhost:8080/"
        },
        "id": "OAwhnh0zrzGy",
        "outputId": "75168d3a-1eff-4040-8053-2a6bf6fb35c2"
      },
      "source": [
        "a=200\n",
        "b=300\n",
        "c=500\n",
        "if a>b or c>a:\n",
        "  print(\"Evaluated as False\")"
      ],
      "execution_count": 16,
      "outputs": [
        {
          "output_type": "stream",
          "name": "stdout",
          "text": [
            "Evaluated as False\n"
          ]
        }
      ]
    },
    {
      "cell_type": "markdown",
      "metadata": {
        "id": "_XjpL4Krr83h"
      },
      "source": [
        "##And Logical Condition"
      ]
    },
    {
      "cell_type": "code",
      "metadata": {
        "colab": {
          "base_uri": "https://localhost:8080/"
        },
        "id": "owIB3fKDsAlK",
        "outputId": "013bbe8b-53cc-420c-8bef-056b692b4299"
      },
      "source": [
        "a=200\n",
        "b=300\n",
        "c=500\n",
        "if a>b and c>a:\n",
        "  print(\"Both conditions are True\")\n",
        "else:\n",
        "  print(\"Evaluated as False\")"
      ],
      "execution_count": 21,
      "outputs": [
        {
          "output_type": "stream",
          "name": "stdout",
          "text": [
            "Evaluated as False\n"
          ]
        }
      ]
    },
    {
      "cell_type": "markdown",
      "metadata": {
        "id": "vkZxZYETsm2C"
      },
      "source": [
        "##Or Logical Condition"
      ]
    },
    {
      "cell_type": "code",
      "metadata": {
        "colab": {
          "base_uri": "https://localhost:8080/"
        },
        "id": "X3G61mb_svbg",
        "outputId": "2d0c6cf9-6567-4576-c78c-2847747162da"
      },
      "source": [
        "a=200\n",
        "b=300\n",
        "c=500\n",
        "if a>b or c>a:\n",
        "  print(\"Evaluated as True\")\n",
        "else:\n",
        "  print(\"Evaluated as False\")"
      ],
      "execution_count": 22,
      "outputs": [
        {
          "output_type": "stream",
          "name": "stdout",
          "text": [
            "Evaluated as True\n"
          ]
        }
      ]
    },
    {
      "cell_type": "markdown",
      "metadata": {
        "id": "dEv-pQY3s5gQ"
      },
      "source": [
        "##Nested if..Else Statement"
      ]
    },
    {
      "cell_type": "code",
      "metadata": {
        "colab": {
          "base_uri": "https://localhost:8080/"
        },
        "id": "L6nm7z9Us9KR",
        "outputId": "64cb8256-7324-4663-b17e-5deb5caf2cd1"
      },
      "source": [
        "x=20\n",
        "\n",
        "if x>10:\n",
        "  print(\"Above ten\")\n",
        "  if x>20:\n",
        "    print(\"Above twenty\")\n",
        "  else:\n",
        "    print(\"Above ten but Not above twenty\")\n",
        "else:\n",
        "  print(\"Not above ten\")"
      ],
      "execution_count": 23,
      "outputs": [
        {
          "output_type": "stream",
          "name": "stdout",
          "text": [
            "Above ten\n",
            "Above ten but Not above twenty\n"
          ]
        }
      ]
    },
    {
      "cell_type": "markdown",
      "metadata": {
        "id": "ELVtmygTtZd4"
      },
      "source": [
        "##Example 1"
      ]
    },
    {
      "cell_type": "code",
      "metadata": {
        "colab": {
          "base_uri": "https://localhost:8080/"
        },
        "id": "L0DdzdCRtbVo",
        "outputId": "237fcb10-ae4a-4a19-c649-5e1f8c69c331"
      },
      "source": [
        "# The qualifying age to vote\n",
        "age=int(input(\"Enter your age:\"))\n",
        "if age>=18:\n",
        "  print(\"You are qualified to vote\")\n",
        "else:\n",
        "  print(\"You are Not qualified to vote\")"
      ],
      "execution_count": 24,
      "outputs": [
        {
          "output_type": "stream",
          "name": "stdout",
          "text": [
            "Enter your age:15\n",
            "You are Not qualified to vote\n"
          ]
        }
      ]
    },
    {
      "cell_type": "markdown",
      "metadata": {
        "id": "ijU7OIn_t2-A"
      },
      "source": [
        "##Example 2"
      ]
    },
    {
      "cell_type": "code",
      "metadata": {
        "colab": {
          "base_uri": "https://localhost:8080/"
        },
        "id": "4ZDiUyrxt4v5",
        "outputId": "bfef73d8-4712-4923-8093-5c361fbec0b4"
      },
      "source": [
        "num=int(input(\"Enter the number:\"))\n",
        "if num==0:\n",
        "  print(\"Zero\")\n",
        "elif num>0:\n",
        "  print(\"Positive\")\n",
        "else:\n",
        "  print(\"Negative\")"
      ],
      "execution_count": 27,
      "outputs": [
        {
          "output_type": "stream",
          "name": "stdout",
          "text": [
            "Enter the number:-125\n",
            "Negative\n"
          ]
        }
      ]
    },
    {
      "cell_type": "markdown",
      "metadata": {
        "id": "R8SbvN5Kujhx"
      },
      "source": [
        "##Example 3"
      ]
    },
    {
      "cell_type": "code",
      "metadata": {
        "colab": {
          "base_uri": "https://localhost:8080/"
        },
        "id": "h21RTKLuulko",
        "outputId": "e928b258-262e-4743-c7e3-0898f4ed45a5"
      },
      "source": [
        "grade=float(input(\"Please enter your grade:\"))\n",
        "if grade>=75:\n",
        "  print(\"Passed\")\n",
        "elif grade<74:\n",
        "  print(\"Failed\")\n",
        "else:\n",
        "  print(\"Remedial\")"
      ],
      "execution_count": 28,
      "outputs": [
        {
          "output_type": "stream",
          "name": "stdout",
          "text": [
            "Please enter your grade:74\n",
            "Remedial\n"
          ]
        }
      ]
    }
  ]
}